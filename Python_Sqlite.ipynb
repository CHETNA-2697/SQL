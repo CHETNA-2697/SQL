{
 "cells": [
  {
   "cell_type": "markdown",
   "id": "f25ffb9d-8cfa-45ab-a272-1be261957b15",
   "metadata": {},
   "source": [
    "##### LibraryDatabase"
   ]
  },
  {
   "cell_type": "code",
   "execution_count": 1,
   "id": "4bdc007e-0b23-4cdb-98c3-dfba4f21af62",
   "metadata": {},
   "outputs": [],
   "source": [
    "import sqlite3\n",
    "# Connect to SQLite database\n",
    "conn = sqlite3.connect('LibraryDatabase.db')\n",
    "cursor = conn.cursor()"
   ]
  },
  {
   "cell_type": "markdown",
   "id": "3460199e-ab5f-4fc9-9426-f42e85d23677",
   "metadata": {},
   "source": [
    "###### Create Tables"
   ]
  },
  {
   "cell_type": "code",
   "execution_count": 2,
   "id": "cb4fd469-e042-4933-9f2c-8865f9424cd2",
   "metadata": {},
   "outputs": [],
   "source": [
    "# Create USERS table\n",
    "cursor.execute('''\n",
    "CREATE TABLE IF NOT EXISTS Users (\n",
    "        id INTEGER PRIMARY KEY AUTOINCREMENT,\n",
    "        full_name TEXT NOT NULL,\n",
    "        enabled TEXT CHECK(enabled IN ('t', 'f')),\n",
    "        LastLogin DATETIME\n",
    "    );\n",
    "    ''')\n",
    "\n",
    "# Create ADDRESS Table\n",
    "cursor.execute('''\n",
    "  CREATE TABLE IF NOT EXISTS Addresses (\n",
    "        address_id INTEGER PRIMARY KEY AUTOINCREMENT,\n",
    "        user_id INTEGER NOT NULL,\n",
    "        street TEXT NOT NULL,\n",
    "        city TEXT NOT NULL,\n",
    "        state TEXT NOT NULL,\n",
    "        FOREIGN KEY (user_id) REFERENCES Users(id)\n",
    "    );\n",
    "    ''')\n",
    "\n",
    "# Create Books Table\n",
    "cursor.execute('''\n",
    " CREATE TABLE IF NOT EXISTS Books (\n",
    "        book_id INTEGER PRIMARY KEY AUTOINCREMENT,\n",
    "        title TEXT NOT NULL,\n",
    "        author TEXT NOT NULL,\n",
    "        publishedDate DATETIME,\n",
    "        ISBN TEXT UNIQUE NOT NULL\n",
    "    );\n",
    "    ''')\n",
    "\n",
    "# Create CHECKOUTS Table\n",
    "cursor.execute('''\n",
    " CREATE TABLE IF NOT EXISTS Checkouts(\n",
    "        checkout_id INTEGER PRIMARY KEY AUTOINCREMENT,\n",
    "        user_id INTEGER NOT NULL,\n",
    "        book_id INTEGER NOT NULL,\n",
    "        checkout_date DATETIME DEFAULT CURRENT_TIMESTAMP,\n",
    "        return_date DATETIME,\n",
    "        FOREIGN KEY (user_id) REFERENCES Users(id),\n",
    "        FOREIGN KEY (book_id) REFERENCES Books(id)\n",
    "    );\n",
    "    ''')\n",
    "\n",
    "# Create REVIEWS Table\n",
    "cursor.execute('''\n",
    "  CREATE TABLE IF NOT EXISTS Reviews (\n",
    "        review_id INTEGER PRIMARY KEY AUTOINCREMENT,\n",
    "        book_id INTEGER NOT NULL,\n",
    "        reviewer_name TEXT,\n",
    "        Content TEXT,\n",
    "        rating INTEGER CHECK (rating BETWEEN 1 AND 5),\n",
    "        published_date DATETIME,\n",
    "        FOREIGN KEY (book_id) REFERENCES Books(id)\n",
    "    );\n",
    "    ''')\n",
    "\n",
    "# Create LOGS Table\n",
    "cursor.execute('''\n",
    "    CREATE TABLE IF NOT EXISTS Logs (\n",
    "        log_id INTEGER PRIMARY KEY AUTOINCREMENT,\n",
    "        checkout_id INTEGER NOT NULL,\n",
    "        timestamp DATETIME DEFAULT CURRENT_TIMESTAMP,\n",
    "        FOREIGN KEY (checkout_id) REFERENCES Checkouts(checkout_id)\n",
    "    );\n",
    "    ''')\n",
    "\n",
    "# Create Trigger to log checkouts\n",
    "cursor.execute('''\n",
    "    CREATE TRIGGER IF NOT EXISTS log_checkout\n",
    "    AFTER INSERT ON Checkouts\n",
    "    FOR EACH ROW\n",
    "    BEGIN\n",
    "        INSERT INTO Logs (checkout_id) VALUES (NEW.checkout_id);\n",
    "    END;''')\n",
    "\n",
    "conn.commit()"
   ]
  },
  {
   "cell_type": "markdown",
   "id": "d03772cb-4ef2-4fd6-964f-97ad1c6f10b4",
   "metadata": {},
   "source": [
    "###### Insert Values"
   ]
  },
  {
   "cell_type": "code",
   "execution_count": 3,
   "id": "c1dffb8f-f3d0-48b1-a264-4ea06ec21cee",
   "metadata": {},
   "outputs": [],
   "source": [
    "# Insert data into Users\n",
    "cursor.execute('''\n",
    "    INSERT INTO Users (id, full_name, enabled, lastLogin) VALUES \n",
    "    (1, 'John Smith', 'f', '2017-10-25 10:26:10.015152'),\n",
    "    (2, 'Alice Walker', 't', '2017-10-25 10:26:50.295461'),\n",
    "    (3, 'Harry Potter', 't', '2017-10-25 10:26:50.295461'),\n",
    "    (5, 'Jane Smith', 't', '2017-10-25 10:36:43.324015');\n",
    "''')\n",
    "\n",
    "# Insert data into Addresses\n",
    "cursor.execute('''\n",
    "   INSERT INTO Addresses (user_id, street, city, state) VALUES \n",
    "(1, '1 Market Street', 'San Francisco', 'CA'),\n",
    "(2, '2 Elm Street', 'San Francisco', 'CA'),\n",
    "(3, '3 Main Street', 'Boston', 'MA');\n",
    "''')\n",
    "\n",
    "# Insert values into the Books table\n",
    "cursor.execute('''\n",
    "    INSERT INTO Books (title, author, publishedDate, ISBN) VALUES \n",
    "    ('My First SQL book', 'Mary Parker', '2012-02-22 12:08:17.320053-03', '981483029127'),\n",
    "    ('My Second SQL book', 'John Mayer', '1972-07-03 09:22:45.050088-07', '857300923713'),\n",
    "    ('My Third SQL book', 'Cary Flint', '2015-10-18 14:05:44.547516-07', '523120967812');\n",
    "''')\n",
    "\n",
    "# Insert data into Checkouts\n",
    "cursor.execute('''\n",
    "    INSERT INTO Checkouts (user_id, book_id, checkout_date, return_date) VALUES \n",
    "    (1, 1, '2017-10-15 14:43:18.095143-07', NULL),\n",
    "    (1, 2, '2017-10-05 16:22:44.593188-07', '2017-10-13 13:05:12.673382-05'),\n",
    "    (2, 2, '2017-10-15 11:11:24.994973-07', '2017-10-22 17:47:10.407569-07'),\n",
    "    (5, 3, '2017-10-15 09:27:07.215217-07', NULL);\n",
    "''')\n",
    "\n",
    "# Insert data into Reviews\n",
    "cursor.execute('''\n",
    "    INSERT INTO Reviews (book_id, reviewer_name, Content, rating, published_date) VALUES \n",
    "    (1, 'John Smith', 'Excellent book', 4, '2017-12-10 05:50:11.127281-02'),\n",
    "    (2, 'John Smith', 'Best SQL book', 5, '2017-10-13 15:05:12.673382-05'),\n",
    "    (2, 'Alice Walker', '10/10 recommended', 1, '2017-10-22 23:47:10.407569-07');\n",
    "''')\n",
    "\n",
    "conn.commit()\n"
   ]
  },
  {
   "cell_type": "markdown",
   "id": "eba8e710-fb02-4fc4-a803-d1f64580c175",
   "metadata": {},
   "source": [
    "###### Display Tables"
   ]
  },
  {
   "cell_type": "code",
   "execution_count": 4,
   "id": "ed222b99-4150-4334-b7eb-de3c9a9fbbee",
   "metadata": {},
   "outputs": [
    {
     "name": "stdout",
     "output_type": "stream",
     "text": [
      "\n",
      "Users Table:\n",
      "id, full_name, enabled, LastLogin\n",
      "(1, 'John Smith', 'f', '2017-10-25 10:26:10.015152')\n",
      "(2, 'Alice Walker', 't', '2017-10-25 10:26:50.295461')\n",
      "(3, 'Harry Potter', 't', '2017-10-25 10:26:50.295461')\n",
      "(5, 'Jane Smith', 't', '2017-10-25 10:36:43.324015')\n",
      "\n",
      "sqlite_sequence Table:\n",
      "name, seq\n",
      "('Users', 5)\n",
      "('Addresses', 3)\n",
      "('Books', 3)\n",
      "('Logs', 4)\n",
      "('Checkouts', 4)\n",
      "('Reviews', 3)\n",
      "\n",
      "Addresses Table:\n",
      "address_id, user_id, street, city, state\n",
      "(1, 1, '1 Market Street', 'San Francisco', 'CA')\n",
      "(2, 2, '2 Elm Street', 'San Francisco', 'CA')\n",
      "(3, 3, '3 Main Street', 'Boston', 'MA')\n",
      "\n",
      "Books Table:\n",
      "book_id, title, author, publishedDate, ISBN\n",
      "(1, 'My First SQL book', 'Mary Parker', '2012-02-22 12:08:17.320053-03', '981483029127')\n",
      "(2, 'My Second SQL book', 'John Mayer', '1972-07-03 09:22:45.050088-07', '857300923713')\n",
      "(3, 'My Third SQL book', 'Cary Flint', '2015-10-18 14:05:44.547516-07', '523120967812')\n",
      "\n",
      "Checkouts Table:\n",
      "checkout_id, user_id, book_id, checkout_date, return_date\n",
      "(1, 1, 1, '2017-10-15 14:43:18.095143-07', None)\n",
      "(2, 1, 2, '2017-10-05 16:22:44.593188-07', '2017-10-13 13:05:12.673382-05')\n",
      "(3, 2, 2, '2017-10-15 11:11:24.994973-07', '2017-10-22 17:47:10.407569-07')\n",
      "(4, 5, 3, '2017-10-15 09:27:07.215217-07', None)\n",
      "\n",
      "Reviews Table:\n",
      "review_id, book_id, reviewer_name, Content, rating, published_date\n",
      "(1, 1, 'John Smith', 'Excellent book', 4, '2017-12-10 05:50:11.127281-02')\n",
      "(2, 2, 'John Smith', 'Best SQL book', 5, '2017-10-13 15:05:12.673382-05')\n",
      "(3, 2, 'Alice Walker', '10/10 recommended', 1, '2017-10-22 23:47:10.407569-07')\n",
      "\n",
      "Logs Table:\n",
      "log_id, checkout_id, timestamp\n",
      "(1, 1, '2024-11-04 19:35:41')\n",
      "(2, 2, '2024-11-04 19:35:41')\n",
      "(3, 3, '2024-11-04 19:35:41')\n",
      "(4, 4, '2024-11-04 19:35:41')\n"
     ]
    }
   ],
   "source": [
    "# Getting a list of all tables in the database.\n",
    "cursor.execute(\"SELECT name FROM sqlite_master WHERE type='table';\")\n",
    "tables = cursor.fetchall()\n",
    "\n",
    "# Display the names and contents of each table.\n",
    "for table_name in tables:\n",
    "    table_name = table_name[0] \n",
    "    print(f\"\\n{table_name} Table:\")\n",
    "    \n",
    "    # Getting column names\n",
    "    cursor.execute(f\"PRAGMA table_info({table_name});\")\n",
    "    columns = cursor.fetchall()\n",
    "    column_names = [column[1] for column in columns] \n",
    "    \n",
    "    # Printing the column names\n",
    "    print(\", \".join(column_names))\n",
    "    \n",
    "    # Fetch and print each row from the table\n",
    "    cursor.execute(f\"SELECT * FROM {table_name};\")\n",
    "    rows = cursor.fetchall()\n",
    "    \n",
    "    # Printing each row\n",
    "    for row in rows:\n",
    "        print(row)\n",
    "    \n",
    "conn.close()\n"
   ]
  },
  {
   "cell_type": "markdown",
   "id": "8bd27067-669b-4cc4-8879-eba7b930fc58",
   "metadata": {},
   "source": [
    "##### Q1: Find the title, authors and the isbn of the books that ‘John Smith’ has checked out."
   ]
  },
  {
   "cell_type": "code",
   "execution_count": 5,
   "id": "a6d873d6-09ab-4779-974c-ae086188fca0",
   "metadata": {},
   "outputs": [
    {
     "name": "stdout",
     "output_type": "stream",
     "text": [
      "----Books checked out by John Smith: ----\n",
      "Title: My First SQL book, Author: Mary Parker, ISBN: 981483029127\n",
      "Title: My Second SQL book, Author: John Mayer, ISBN: 857300923713\n"
     ]
    }
   ],
   "source": [
    "# Connecting to the SQLite database\n",
    "conn = sqlite3.connect('LibraryDatabase.db')\n",
    "cursor = conn.cursor()\n",
    "# Query to find books checked out by 'John Smith'\n",
    "cursor.execute('''\n",
    "    SELECT Books.title, Books.author, Books.ISBN\n",
    "    FROM Users\n",
    "    JOIN Checkouts ON Users.id = Checkouts.user_id\n",
    "    JOIN Books ON Checkouts.book_id = Books.book_id\n",
    "    WHERE Users.full_name = 'John Smith';\n",
    "''')\n",
    "\n",
    "print(\"----Books checked out by John Smith: ----\")\n",
    "# Fetch and display the results\n",
    "results = cursor.fetchall()\n",
    "for row in results:\n",
    "    print(f\"Title: {row[0]}, Author: {row[1]}, ISBN: {row[2]}\")\n",
    "\n",
    "# closing the connection\n",
    "conn.close()\n"
   ]
  },
  {
   "cell_type": "markdown",
   "id": "2c2317b2-1611-4093-be83-a872fb4274e2",
   "metadata": {},
   "source": [
    "##### Q2: Find all reviewers for the book “My Third SQL book”."
   ]
  },
  {
   "cell_type": "code",
   "execution_count": 6,
   "id": "cd346689-dd3c-43c5-8f31-a74e708b7c27",
   "metadata": {},
   "outputs": [
    {
     "name": "stdout",
     "output_type": "stream",
     "text": [
      "---- REVIEWS ----\n",
      "0 reviews\n"
     ]
    }
   ],
   "source": [
    "# Connecting to the SQLite database\n",
    "conn = sqlite3.connect('LibraryDatabase.db')\n",
    "cursor = conn.cursor()\n",
    "\n",
    "# Query to find all reviewers for the book \"My Third SQL book\"\n",
    "cursor.execute('''\n",
    "    SELECT Reviews.reviewer_name\n",
    "    FROM Books\n",
    "    JOIN Reviews ON Books.book_id = Reviews.book_id\n",
    "    WHERE Books.title = 'My Third SQL book';\n",
    "''')\n",
    "\n",
    "# Fetch the results\n",
    "results = cursor.fetchall()\n",
    "\n",
    "print(\"---- REVIEWS ----\")\n",
    "# Check if there are results\n",
    "if results:\n",
    "    for row in results:\n",
    "        print(f\"Reviewer: {row[0]}\")\n",
    "else:\n",
    "    print(\"0 reviews\")\n",
    "\n",
    "# closing the connection\n",
    "conn.close()\n",
    "\n"
   ]
  },
  {
   "cell_type": "markdown",
   "id": "c987f590-1ab1-405b-863d-f359d714773e",
   "metadata": {},
   "source": [
    "##### Q3: Find the users that have no books checked out"
   ]
  },
  {
   "cell_type": "code",
   "execution_count": 7,
   "id": "9d827cd5-009f-474b-a4ac-c83efacda98c",
   "metadata": {},
   "outputs": [
    {
     "name": "stdout",
     "output_type": "stream",
     "text": [
      "--- books with no checkouts ---\n",
      "Harry Potter\n"
     ]
    }
   ],
   "source": [
    "# Connecting to the SQLite database\n",
    "conn = sqlite3.connect('LibraryDatabase.db')\n",
    "cursor = conn.cursor()\n",
    "\n",
    "# Query to find users with no books checked out\n",
    "cursor.execute('''\n",
    "    SELECT Users.full_name\n",
    "    FROM Users\n",
    "    LEFT JOIN Checkouts ON Users.id = Checkouts.user_id\n",
    "    WHERE Checkouts.user_id IS NULL;\n",
    "''')\n",
    "\n",
    "# Fetch and display the results\n",
    "results = cursor.fetchall()\n",
    "\n",
    "print(\"--- books with no checkouts ---\")\n",
    "# Check if there are results\n",
    "if results:\n",
    "    for row in results:\n",
    "        print(f\"{row[0]}\")\n",
    "else:\n",
    "    print(\"All users have books checked out.\")\n"
   ]
  },
  {
   "cell_type": "markdown",
   "id": "31f4d5d4-b580-4acb-b951-5b74e0ac0d5a",
   "metadata": {},
   "source": [
    "####  Q4: Write a SQL query to show all the records of the logs table"
   ]
  },
  {
   "cell_type": "code",
   "execution_count": 8,
   "id": "ff91fee5-5840-477a-b0ed-2b1c05456384",
   "metadata": {},
   "outputs": [
    {
     "name": "stdout",
     "output_type": "stream",
     "text": [
      "Logs Table:\n",
      "(1, 1, '2024-11-04 19:35:41')\n",
      "(2, 2, '2024-11-04 19:35:41')\n",
      "(3, 3, '2024-11-04 19:35:41')\n",
      "(4, 4, '2024-11-04 19:35:41')\n"
     ]
    }
   ],
   "source": [
    "# Query to fetch all records from the Logs table\n",
    "cursor.execute('SELECT * FROM Logs;')\n",
    "\n",
    "# Fetch and display the results\n",
    "results = cursor.fetchall()\n",
    "\n",
    "# Check if there are results\n",
    "if results:\n",
    "    print(\"Logs Table:\")\n",
    "    for row in results:\n",
    "        print(row)\n",
    "else:\n",
    "    print(\"No records found in the Logs table.\")\n"
   ]
  },
  {
   "cell_type": "markdown",
   "id": "ea631a8b-68d7-4623-b2e1-d04a3a01ff1e",
   "metadata": {},
   "source": [
    "## Sending the sql query to pandas function"
   ]
  },
  {
   "cell_type": "code",
   "execution_count": 9,
   "id": "0c34fbc5-e19a-4ae5-908c-8872374a89c0",
   "metadata": {},
   "outputs": [
    {
     "name": "stdout",
     "output_type": "stream",
     "text": [
      "\n",
      "--- Users Table ---\n",
      "   id     full_name enabled                   LastLogin\n",
      "0   1    John Smith       f  2017-10-25 10:26:10.015152\n",
      "1   2  Alice Walker       t  2017-10-25 10:26:50.295461\n",
      "2   3  Harry Potter       t  2017-10-25 10:26:50.295461\n",
      "3   5    Jane Smith       t  2017-10-25 10:36:43.324015\n",
      "\n",
      "--- sqlite_sequence Table ---\n",
      "        name  seq\n",
      "0      Users    5\n",
      "1  Addresses    3\n",
      "2      Books    3\n",
      "3       Logs    4\n",
      "4  Checkouts    4\n",
      "5    Reviews    3\n",
      "\n",
      "--- Addresses Table ---\n",
      "   address_id  user_id           street           city state\n",
      "0           1        1  1 Market Street  San Francisco    CA\n",
      "1           2        2     2 Elm Street  San Francisco    CA\n",
      "2           3        3    3 Main Street         Boston    MA\n",
      "\n",
      "--- Books Table ---\n",
      "   book_id               title       author                  publishedDate  \\\n",
      "0        1   My First SQL book  Mary Parker  2012-02-22 12:08:17.320053-03   \n",
      "1        2  My Second SQL book   John Mayer  1972-07-03 09:22:45.050088-07   \n",
      "2        3   My Third SQL book   Cary Flint  2015-10-18 14:05:44.547516-07   \n",
      "\n",
      "           ISBN  \n",
      "0  981483029127  \n",
      "1  857300923713  \n",
      "2  523120967812  \n",
      "\n",
      "--- Checkouts Table ---\n",
      "   checkout_id  user_id  book_id                  checkout_date  \\\n",
      "0            1        1        1  2017-10-15 14:43:18.095143-07   \n",
      "1            2        1        2  2017-10-05 16:22:44.593188-07   \n",
      "2            3        2        2  2017-10-15 11:11:24.994973-07   \n",
      "3            4        5        3  2017-10-15 09:27:07.215217-07   \n",
      "\n",
      "                     return_date  \n",
      "0                           None  \n",
      "1  2017-10-13 13:05:12.673382-05  \n",
      "2  2017-10-22 17:47:10.407569-07  \n",
      "3                           None  \n",
      "\n",
      "--- Reviews Table ---\n",
      "   review_id  book_id reviewer_name            Content  rating  \\\n",
      "0          1        1    John Smith     Excellent book       4   \n",
      "1          2        2    John Smith      Best SQL book       5   \n",
      "2          3        2  Alice Walker  10/10 recommended       1   \n",
      "\n",
      "                  published_date  \n",
      "0  2017-12-10 05:50:11.127281-02  \n",
      "1  2017-10-13 15:05:12.673382-05  \n",
      "2  2017-10-22 23:47:10.407569-07  \n",
      "\n",
      "--- Logs Table ---\n",
      "   log_id  checkout_id            timestamp\n",
      "0       1            1  2024-11-04 19:35:41\n",
      "1       2            2  2024-11-04 19:35:41\n",
      "2       3            3  2024-11-04 19:35:41\n",
      "3       4            4  2024-11-04 19:35:41\n"
     ]
    }
   ],
   "source": [
    "#import pandas\n",
    "import pandas as pd\n",
    "# Connecting to the SQLite database\n",
    "conn = sqlite3.connect('LibraryDatabase.db')\n",
    "cursor = conn.cursor()\n",
    "# Query each table using pandas and display results\n",
    "tables = pd.read_sql_query(\"SELECT name FROM sqlite_master WHERE type='table';\", conn)\n",
    "table_names = tables['name'].tolist()\n",
    "table_data = {table_name: pd.read_sql_query(f\"SELECT * FROM {table_name};\", conn) for table_name in table_names}\n",
    "# Display all tables\n",
    "for table_name, data in table_data.items():\n",
    "    print(f\"\\n--- {table_name} Table ---\")\n",
    "    print(data)\n",
    "\n"
   ]
  },
  {
   "cell_type": "markdown",
   "id": "0641841f-2020-4c4e-a1bd-1456c4d7d682",
   "metadata": {},
   "source": [
    "###### Q1: Find the title, authors and the isbn of the books that ‘John Smith’ has checked out."
   ]
  },
  {
   "cell_type": "code",
   "execution_count": 10,
   "id": "969dcd38-f123-45a5-8914-54c4a65c74d2",
   "metadata": {},
   "outputs": [
    {
     "name": "stdout",
     "output_type": "stream",
     "text": [
      "\n",
      "--- Books checked out by John Smith ---\n",
      "                title       author          ISBN\n",
      "0   My First SQL book  Mary Parker  981483029127\n",
      "1  My Second SQL book   John Mayer  857300923713\n"
     ]
    }
   ],
   "source": [
    "# 1. Books checked out by 'John Smith'\n",
    "books_checked_out = pd.read_sql_query('''\n",
    "    SELECT Books.title, Books.author, Books.ISBN\n",
    "    FROM Users\n",
    "    JOIN Checkouts ON Users.id = Checkouts.user_id\n",
    "    JOIN Books ON Checkouts.book_id = Books.book_id\n",
    "    WHERE Users.full_name = 'John Smith';\n",
    "''', conn)\n",
    "print(\"\\n--- Books checked out by John Smith ---\")\n",
    "print(books_checked_out)\n"
   ]
  },
  {
   "cell_type": "markdown",
   "id": "133afaab-2b81-4c0c-b994-70a125b381ad",
   "metadata": {},
   "source": [
    "###### Q2: Find all reviewers for the book “My Third SQL book”."
   ]
  },
  {
   "cell_type": "code",
   "execution_count": 11,
   "id": "bce553a4-eb43-4d00-b206-89625b155315",
   "metadata": {},
   "outputs": [
    {
     "name": "stdout",
     "output_type": "stream",
     "text": [
      "\n",
      "--- Reviewers for 'My Third SQL book' ---\n",
      "Empty DataFrame\n",
      "Columns: [reviewer_name]\n",
      "Index: []\n"
     ]
    }
   ],
   "source": [
    "# 2. Reviewers for \"My Third SQL book\"\n",
    "reviewers = pd.read_sql_query('''\n",
    "    SELECT Reviews.reviewer_name\n",
    "    FROM Books\n",
    "    JOIN Reviews ON Books.book_id = Reviews.book_id\n",
    "    WHERE Books.title = 'My Third SQL book';\n",
    "''', conn)\n",
    "print(\"\\n--- Reviewers for 'My Third SQL book' ---\")\n",
    "print(reviewers)\n"
   ]
  },
  {
   "cell_type": "markdown",
   "id": "6c060010-281c-47f9-be28-a68e6c1e1ef1",
   "metadata": {},
   "source": [
    "###### Q3: Find the users that have no books checked out"
   ]
  },
  {
   "cell_type": "code",
   "execution_count": 12,
   "id": "16bc0150-1c6d-481e-a4fb-c5153df2de02",
   "metadata": {},
   "outputs": [
    {
     "name": "stdout",
     "output_type": "stream",
     "text": [
      "\n",
      "--- Users with no books checked out ---\n",
      "      full_name\n",
      "0  Harry Potter\n"
     ]
    }
   ],
   "source": [
    "# 3. Users with no books checked out\n",
    "users_no_books = pd.read_sql_query('''\n",
    "    SELECT Users.full_name\n",
    "    FROM Users\n",
    "    LEFT JOIN Checkouts ON Users.id = Checkouts.user_id\n",
    "    WHERE Checkouts.user_id IS NULL;\n",
    "''', conn)\n",
    "print(\"\\n--- Users with no books checked out ---\")\n",
    "print(users_no_books)"
   ]
  },
  {
   "cell_type": "markdown",
   "id": "8ddd6e31-5d87-427b-804d-1871c849e9d6",
   "metadata": {},
   "source": [
    "##### Q4: Write a SQL query to show all the records of the logs table"
   ]
  },
  {
   "cell_type": "code",
   "execution_count": 13,
   "id": "b9bde891-c467-4912-ac80-ae2fcee086f9",
   "metadata": {},
   "outputs": [
    {
     "name": "stdout",
     "output_type": "stream",
     "text": [
      "\n",
      "--- Logs Table ---\n",
      "   log_id  checkout_id            timestamp\n",
      "0       1            1  2024-11-04 19:35:41\n",
      "1       2            2  2024-11-04 19:35:41\n",
      "2       3            3  2024-11-04 19:35:41\n",
      "3       4            4  2024-11-04 19:35:41\n"
     ]
    }
   ],
   "source": [
    "# 4. All records from the Logs table\n",
    "logs_table = pd.read_sql_query(\"SELECT * FROM Logs;\", conn)\n",
    "print(\"\\n--- Logs Table ---\")\n",
    "print(logs_table)\n",
    "\n",
    "# Close connection\n",
    "conn.close()"
   ]
  },
  {
   "cell_type": "code",
   "execution_count": null,
   "id": "ae26f037-a01d-4370-b2ce-0680f95e1525",
   "metadata": {},
   "outputs": [],
   "source": []
  }
 ],
 "metadata": {
  "kernelspec": {
   "display_name": "Python 3 (ipykernel)",
   "language": "python",
   "name": "python3"
  },
  "language_info": {
   "codemirror_mode": {
    "name": "ipython",
    "version": 3
   },
   "file_extension": ".py",
   "mimetype": "text/x-python",
   "name": "python",
   "nbconvert_exporter": "python",
   "pygments_lexer": "ipython3",
   "version": "3.11.7"
  }
 },
 "nbformat": 4,
 "nbformat_minor": 5
}
