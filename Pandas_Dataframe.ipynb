{
 "cells": [
  {
   "cell_type": "markdown",
   "id": "1bf22bc1-a204-4154-b17a-c7e888ee9845",
   "metadata": {},
   "source": [
    "### Library Database using Pandas Dataframe"
   ]
  },
  {
   "cell_type": "code",
   "execution_count": 1,
   "id": "40b7e0f1-8201-4732-91f6-eae6123a837f",
   "metadata": {},
   "outputs": [],
   "source": [
    "import sqlite3\n",
    "import pandas as pd\n",
    "\n",
    "# Connect to SQLite database\n",
    "conn = sqlite3.connect('LibraryDatabase.db')\n",
    "\n",
    "# Define DataFrames with primary keys for each table's data\n",
    "users_df = pd.DataFrame({\n",
    "    'id': [1, 2, 3, 5],\n",
    "    'full_name': ['John Smith', 'Alice Walker', 'Harry Potter', 'Jane Smith'],\n",
    "    'enabled': ['f', 't', 't', 't'],\n",
    "    'LastLogin': ['2017-10-25 10:26:10.015152', '2017-10-25 10:26:50.295461', '2017-10-25 10:26:50.295461', '2017-10-25 10:36:43.324015']\n",
    "})\n",
    "\n",
    "addresses_df = pd.DataFrame({\n",
    "    'address_id': [1, 2, 3],\n",
    "    'user_id': [1, 2, 3],\n",
    "    'street': ['1 Market Street', '2 Elm Street', '3 Main Street'],\n",
    "    'city': ['San Francisco', 'San Francisco', 'Boston'],\n",
    "    'state': ['CA', 'CA', 'MA']\n",
    "})\n",
    "\n",
    "books_df = pd.DataFrame({\n",
    "    'book_id': [1, 2, 3],\n",
    "    'title': ['My First SQL book', 'My Second SQL book', 'My Third SQL book'],\n",
    "    'author': ['Mary Parker', 'John Mayer', 'Cary Flint'],\n",
    "    'publishedDate': ['2012-02-22 12:08:17', '1972-07-03 09:22:45', '2015-10-18 14:05:44'],\n",
    "    'ISBN': ['981483029127', '857300923713', '523120967812']\n",
    "})\n",
    "\n",
    "checkouts_df = pd.DataFrame({\n",
    "    'checkout_id': [1, 2, 3, 4],\n",
    "    'user_id': [1, 1, 2, 5],\n",
    "    'book_id': [1, 2, 2, 3],\n",
    "    'checkout_date': ['2017-10-15 14:43:18', '2017-10-05 16:22:44', '2017-10-15 11:11:24', '2017-10-15 09:27:07'],\n",
    "    'return_date': [None, '2017-10-13 13:05:12', '2017-10-22 17:47:10', None]\n",
    "})\n",
    "\n",
    "reviews_df = pd.DataFrame({\n",
    "    'review_id': [1, 2, 3],\n",
    "    'book_id': [1, 2, 2],\n",
    "    'reviewer_name': ['John Smith', 'John Smith', 'Alice Walker'],\n",
    "    'Content': ['Excellent book', 'Best SQL book', '10/10 recommended'],\n",
    "    'rating': [4, 5, 1],\n",
    "    'published_date': ['2017-12-10 05:50:11', '2017-10-13 15:05:12', '2017-10-22 23:47:10']\n",
    "})\n",
    "\n",
    "logs_df = pd.DataFrame({\n",
    "    'log_id': [1, 2, 3, 4],\n",
    "    'checkout_id': [1, 2, 3, 4],\n",
    "    'timestamp': pd.to_datetime('now')\n",
    "})\n"
   ]
  },
  {
   "cell_type": "code",
   "execution_count": 3,
   "id": "2e2d8c42-f4b0-464d-aa8b-c5db5ca2d60a",
   "metadata": {},
   "outputs": [],
   "source": [
    "# Create tables in SQLite using pandas\n",
    "users_df.to_sql('Users', conn, if_exists='replace', index=False);\n",
    "addresses_df.to_sql('Addresses', conn, if_exists='replace', index=False);\n",
    "books_df.to_sql('Books', conn, if_exists='replace', index=False);\n",
    "checkouts_df.to_sql('Checkouts', conn, if_exists='replace', index=False);\n",
    "reviews_df.to_sql('Reviews', conn, if_exists='replace', index=False);\n",
    "logs_df.to_sql('Logs', conn, if_exists='replace', index=False);\n"
   ]
  },
  {
   "cell_type": "markdown",
   "id": "2abadc8c-748b-46d4-a50b-cc02b1bc3f97",
   "metadata": {},
   "source": [
    "##### Q1: Find the title, authors and the isbn of the books that ‘John Smith’ has checked out."
   ]
  },
  {
   "cell_type": "code",
   "execution_count": 4,
   "id": "cd6d30ac-f6f7-4d4e-abc2-a6caec53c6e3",
   "metadata": {},
   "outputs": [
    {
     "name": "stdout",
     "output_type": "stream",
     "text": [
      "\n",
      "--- Books checked out by John Smith ---\n",
      "                title       author          ISBN\n",
      "0   My First SQL book  Mary Parker  981483029127\n",
      "1  My Second SQL book   John Mayer  857300923713\n"
     ]
    }
   ],
   "source": [
    "# 1. Books checked out by 'John Smith'\n",
    "books_checked_out = pd.read_sql_query('''\n",
    "    SELECT Books.title, Books.author, Books.ISBN\n",
    "    FROM Users\n",
    "    JOIN Checkouts ON Users.id = Checkouts.user_id\n",
    "    JOIN Books ON Checkouts.book_id = Books.book_id\n",
    "    WHERE Users.full_name = 'John Smith';\n",
    "''', conn)\n",
    "print(\"\\n--- Books checked out by John Smith ---\")\n",
    "print(books_checked_out)"
   ]
  },
  {
   "cell_type": "markdown",
   "id": "eaea2aff-144c-46f2-8825-77c7df7883eb",
   "metadata": {},
   "source": [
    "##### Q2: Find all reviewers for the book “My Third SQL book”."
   ]
  },
  {
   "cell_type": "code",
   "execution_count": 5,
   "id": "09a19f45-bfc5-4956-ac82-706f2c1f9362",
   "metadata": {},
   "outputs": [
    {
     "name": "stdout",
     "output_type": "stream",
     "text": [
      "\n",
      "--- Reviewers for 'My Third SQL book' ---\n",
      "Empty DataFrame\n",
      "Columns: [reviewer_name]\n",
      "Index: []\n"
     ]
    }
   ],
   "source": [
    "# 2. Reviewers for \"My Third SQL book\"\n",
    "reviewers = pd.read_sql_query('''\n",
    "    SELECT Reviews.reviewer_name\n",
    "    FROM Books\n",
    "    JOIN Reviews ON Books.book_id = Reviews.book_id\n",
    "    WHERE Books.title = 'My Third SQL book';\n",
    "''', conn)\n",
    "print(\"\\n--- Reviewers for 'My Third SQL book' ---\")\n",
    "print(reviewers)\n"
   ]
  },
  {
   "cell_type": "markdown",
   "id": "d1a64a55-7acf-43ab-8a64-141924eb0b10",
   "metadata": {},
   "source": [
    "##### Q3: Find the users that have no books checked out"
   ]
  },
  {
   "cell_type": "code",
   "execution_count": 6,
   "id": "01542e88-651b-476e-93aa-9fb96f0c00ca",
   "metadata": {},
   "outputs": [
    {
     "name": "stdout",
     "output_type": "stream",
     "text": [
      "\n",
      "--- Users with no books checked out ---\n",
      "      full_name\n",
      "0  Harry Potter\n"
     ]
    }
   ],
   "source": [
    "# 3. Users with no books checked out\n",
    "users_no_books = pd.read_sql_query('''\n",
    "    SELECT Users.full_name\n",
    "    FROM Users\n",
    "    LEFT JOIN Checkouts ON Users.id = Checkouts.user_id\n",
    "    WHERE Checkouts.user_id IS NULL;\n",
    "''', conn)\n",
    "print(\"\\n--- Users with no books checked out ---\")\n",
    "print(users_no_books)"
   ]
  },
  {
   "cell_type": "markdown",
   "id": "0f110439-6e2a-4f2e-9240-9ea349896500",
   "metadata": {},
   "source": [
    "#### Write a SQL query to show all the records of the logs table"
   ]
  },
  {
   "cell_type": "code",
   "execution_count": 7,
   "id": "abb120cb-5e8d-4ef3-b989-e6841ac3b439",
   "metadata": {},
   "outputs": [
    {
     "name": "stdout",
     "output_type": "stream",
     "text": [
      "\n",
      "--- Logs Table ---\n",
      "   log_id  checkout_id                   timestamp\n",
      "0       1            1  2024-11-04 14:48:58.730374\n",
      "1       2            2  2024-11-04 14:48:58.730374\n",
      "2       3            3  2024-11-04 14:48:58.730374\n",
      "3       4            4  2024-11-04 14:48:58.730374\n"
     ]
    }
   ],
   "source": [
    "# 4. All records from the Logs table\n",
    "logs_table = pd.read_sql_query(\"SELECT * FROM Logs;\", conn)\n",
    "print(\"\\n--- Logs Table ---\")\n",
    "print(logs_table)\n",
    "\n",
    "# Close connection\n",
    "conn.close()"
   ]
  }
 ],
 "metadata": {
  "kernelspec": {
   "display_name": "Python 3 (ipykernel)",
   "language": "python",
   "name": "python3"
  },
  "language_info": {
   "codemirror_mode": {
    "name": "ipython",
    "version": 3
   },
   "file_extension": ".py",
   "mimetype": "text/x-python",
   "name": "python",
   "nbconvert_exporter": "python",
   "pygments_lexer": "ipython3",
   "version": "3.11.7"
  }
 },
 "nbformat": 4,
 "nbformat_minor": 5
}
